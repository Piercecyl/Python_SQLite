{
 "cells": [
  {
   "cell_type": "markdown",
   "metadata": {},
   "source": [
    "# SQLite Implement"
   ]
  },
  {
   "cell_type": "code",
   "execution_count": 1,
   "metadata": {},
   "outputs": [],
   "source": [
    "import sqlite3\n",
    "import pandas as pd\n",
    "import numpy as np"
   ]
  },
  {
   "cell_type": "markdown",
   "metadata": {},
   "source": [
    "首先先創立 Database 和 Cursor； Cursor有點像是呼叫指令。"
   ]
  },
  {
   "cell_type": "code",
   "execution_count": 2,
   "metadata": {},
   "outputs": [],
   "source": [
    "database = sqlite3.connect('D:/python/kaggle/DB/cook.db')\n",
    "cursor = database.cursor()"
   ]
  },
  {
   "cell_type": "markdown",
   "metadata": {},
   "source": [
    "## Create Table"
   ]
  },
  {
   "cell_type": "markdown",
   "metadata": {},
   "source": [
    "Create 的語法為 CREATE TABLE 'Table name'(這裡放欄位名稱與欄位特性)。\n",
    "基礎創建Table 'cook'，包含三個欄位(Cuisine、ID、Ingredients)，資料型態分別為：TEXT、INT、TEXT。"
   ]
  },
  {
   "cell_type": "code",
   "execution_count": 3,
   "metadata": {},
   "outputs": [
    {
     "data": {
      "text/plain": [
       "<sqlite3.Cursor at 0x1d334605f10>"
      ]
     },
     "execution_count": 3,
     "metadata": {},
     "output_type": "execute_result"
    }
   ],
   "source": [
    "cook_sql = \"\"\"\n",
    "CREATE TABLE IF NOT EXISTS cook(\n",
    "    'Cuisine' TEXT, \n",
    "    'ID' INT PRIMARY KEY, \n",
    "    'Ingredients' TEXT)\"\"\"\n",
    "cursor.execute(cook_sql)"
   ]
  },
  {
   "cell_type": "markdown",
   "metadata": {},
   "source": [
    "在SQLite中有內建 metadata table('sqlite_master')，可以從這裡看我剛剛創建的tabl。"
   ]
  },
  {
   "cell_type": "code",
   "execution_count": 4,
   "metadata": {},
   "outputs": [
    {
     "name": "stdout",
     "output_type": "stream",
     "text": [
      "[('cook',)]\n"
     ]
    }
   ],
   "source": [
    "# Assess Table\n",
    "cursor.execute(\"SELECT name FROM sqlite_master WHERE type='table'\")\n",
    "print(cursor.fetchall())"
   ]
  },
  {
   "cell_type": "markdown",
   "metadata": {},
   "source": [
    "## Insert Data"
   ]
  },
  {
   "cell_type": "markdown",
   "metadata": {},
   "source": [
    "新增資料的語法為：INSERT INTO 'table name' (columns1,columns2,......) VALUES(?,?,?)。\n",
    "'?' 比較特別一點，這種寫法在普通SQL語法中並沒有，它代表著你要輸入什麼資料在這個 '?' 欄位裡。"
   ]
  },
  {
   "cell_type": "code",
   "execution_count": 5,
   "metadata": {},
   "outputs": [
    {
     "data": {
      "text/plain": [
       "<sqlite3.Cursor at 0x1d334605f10>"
      ]
     },
     "execution_count": 5,
     "metadata": {},
     "output_type": "execute_result"
    }
   ],
   "source": [
    "inert_sql = \"INSERT INTO cook(CUISINE, ID, INGREDIENTS) values (?,?,?)\"\n",
    "cursor.execute(inert_sql, ('test', 1, \"['romaine lettuce', 'black olives', 'grape tomatoes']\"))\n",
    "cursor.execute(inert_sql, ('test1', 2, \"['romaine lettuce']\"))\n",
    "cursor.execute(inert_sql, ('test2', 3, \"['romaine lettuce', 'grape tomatoes']\"))\n",
    "cursor.execute(inert_sql, ('test3', 4, \"['romaine lettuce', 'black olives', 'grape tomatoes']\"))\n",
    "cursor.execute(inert_sql, ('test4', 5, \"['grape tomatoes']\"))"
   ]
  },
  {
   "cell_type": "markdown",
   "metadata": {},
   "source": [
    "Python 3.6版有一功能為F-strings，看起來更為簡約。\n",
    "語法為：f\"Type Your String Here {vaiable}\""
   ]
  },
  {
   "cell_type": "code",
   "execution_count": 51,
   "metadata": {},
   "outputs": [
    {
     "name": "stdout",
     "output_type": "stream",
     "text": [
      "ID   Ingredients\n",
      "1    ['romaine lettuce', 'black olives', 'grape tomatoes']\n",
      "2    ['romaine lettuce']\n",
      "3    ['romaine lettuce', 'grape tomatoes']\n",
      "4    ['romaine lettuce', 'black olives', 'grape tomatoes']\n",
      "5    ['grape tomatoes']\n"
     ]
    }
   ],
   "source": [
    "cursor.execute(\"SELECT ID, Ingredients FROM cook\")\n",
    "formatted_result = [f\"{id:<5}{ingredients}\" for id, ingredients in cursor.fetchall()]\n",
    "print('\\n'.join([f\"ID   Ingredients\"] + formatted_result))"
   ]
  },
  {
   "cell_type": "markdown",
   "metadata": {},
   "source": [
    "## Querying the Database"
   ]
  },
  {
   "cell_type": "markdown",
   "metadata": {},
   "source": [
    "這邊進行簡單 SQL 查詢"
   ]
  },
  {
   "cell_type": "markdown",
   "metadata": {},
   "source": [
    "### Where"
   ]
  },
  {
   "cell_type": "code",
   "execution_count": 54,
   "metadata": {},
   "outputs": [
    {
     "name": "stdout",
     "output_type": "stream",
     "text": [
      "[(2, 'test1')]\n"
     ]
    }
   ],
   "source": [
    "cursor.execute(\"SELECT ID, Cuisine from cook where ID=2\")\n",
    "print(cursor.fetchall())"
   ]
  }
 ],
 "metadata": {
  "kernelspec": {
   "display_name": "Python 3",
   "language": "python",
   "name": "python3"
  },
  "language_info": {
   "codemirror_mode": {
    "name": "ipython",
    "version": 3
   },
   "file_extension": ".py",
   "mimetype": "text/x-python",
   "name": "python",
   "nbconvert_exporter": "python",
   "pygments_lexer": "ipython3",
   "version": "3.7.1"
  },
  "stem_cell": {
   "cell_type": "raw",
   "metadata": {
    "pycharm": {
     "metadata": false
    }
   },
   "source": "import sqlite3\nimport pandas as pd\nimport numpy as np"
  }
 },
 "nbformat": 4,
 "nbformat_minor": 1
}
